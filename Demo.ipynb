{
 "nbformat": 4,
 "nbformat_minor": 0,
 "metadata": {
  "colab": {
   "name": "MusicViz_Demo.ipynb",
   "private_outputs": true,
   "provenance": [],
   "collapsed_sections": [
    "B0mbu2Latfzd"
   ],
   "machine_shape": "hm",
   "toc_visible": true,
   "authorship_tag": "ABX9TyPZMhLJtZsu8kc/HwnRXcrG",
   "include_colab_link": true
  },
  "kernelspec": {
   "name": "python3",
   "display_name": "Python 3"
  },
  "language_info": {
   "name": "python"
  },
  "accelerator": "GPU"
 },
 "cells": [
  {
   "cell_type": "markdown",
   "metadata": {
    "id": "view-in-github",
    "colab_type": "text"
   },
   "source": [
    "<a href=\"https://colab.research.google.com/github/Victoooooor/MusicViz/blob/main/Demo.ipynb\" target=\"_parent\"><img src=\"https://colab.research.google.com/assets/colab-badge.svg\" alt=\"Open In Colab\"/></a>"
   ]
  },
  {
   "cell_type": "markdown",
   "source": [
    "# Setup"
   ],
   "metadata": {
    "id": "B0mbu2Latfzd"
   }
  },
  {
   "cell_type": "code",
   "execution_count": null,
   "metadata": {
    "collapsed": true,
    "id": "j15P6zgZqxio"
   },
   "outputs": [],
   "source": [
    "#@title\n",
    "!apt-get install libmagic-dev\n",
    "!pip install tensorflow-io\n",
    "!pip install git+https://github.com/Victoooooor/MusicViz.git\n",
    "!git clone -b data https://github.com/Victoooooor/MusicViz.git"
   ]
  },
  {
   "cell_type": "code",
   "source": [
    "from musicviz.visualize import visualize\n",
    "from google.colab import files\n",
    "import os\n",
    "import shutil\n",
    "\n",
    "class Param:\n",
    "    def __init__(self):\n",
    "        self.Valance_Path = './MusicViz/ckpt/V'\n",
    "        self.Arousal_Path = './MusicViz/ckpt/A'\n",
    "        self.c1_path = \"./MusicViz/data/image/c1.jpg\"\n",
    "        self.c2_path = \"./MusicViz/data/image/c2.jpg\"\n",
    "        self.c3_path = \"./MusicViz/data/image/c3.jpg\"\n",
    "        self.c4_path = \"./MusicViz/data/image/c4.jpg\"\n",
    "        self.base_step = 100  #Style base intensity"
   ],
   "metadata": {
    "id": "kN5EQnDj8pUv"
   },
   "execution_count": null,
   "outputs": []
  },
  {
   "cell_type": "markdown",
   "source": [
    "# Upload & Run"
   ],
   "metadata": {
    "id": "7YtJg0zV8shp"
   }
  },
  {
   "cell_type": "code",
   "source": [
    "musdr = 'data/'\n",
    "!mkdir -p {musdr}\n",
    "out = 'out/'\n",
    "!rm -rf {out}\n",
    "!mkdir -p {out}\n",
    "\n",
    "uploaded = files.upload()\n",
    "music_suffix = ('.wav','.mp3')\n",
    "filenames = uploaded.keys()\n",
    "for filename in filenames:\n",
    "  if filename.endswith(music_suffix):\n",
    "    os.makedirs(\"data/\", exist_ok=True)\n",
    "    shutil.move(filename, \"data/\")\n",
    "music_names = sorted([n for n in os.listdir(musdr) if not n.startswith('.')])\n",
    "\n",
    "param = Param()\n",
    "\n",
    "viz = visualize()\n",
    "for music_name in music_names:\n",
    "  music_path = os.path.join(musdr, music_name)\n",
    "  out_path = os.path.join(out, os.path.splitext(music_name)[0]+'.mp4')\n",
    "  viz.run(music_path,\n",
    "          param,\n",
    "          out_path)"
   ],
   "metadata": {
    "id": "74ni-Dr9tqkd",
    "collapsed": true
   },
   "execution_count": null,
   "outputs": []
  },
  {
   "cell_type": "code",
   "source": [
    "!zip -r file.zip {out}\n",
    "files.download('file.zip')\n",
    "!rm -rf {musdr}"
   ],
   "metadata": {
    "id": "Xgnxr43Oym_S"
   },
   "execution_count": null,
   "outputs": []
  }
 ]
}